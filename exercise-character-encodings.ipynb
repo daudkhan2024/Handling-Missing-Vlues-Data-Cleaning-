{
 "cells": [
  {
   "cell_type": "markdown",
   "id": "2ec47b23",
   "metadata": {
    "papermill": {
     "duration": 0.005824,
     "end_time": "2023-04-01T20:49:53.662306",
     "exception": false,
     "start_time": "2023-04-01T20:49:53.656482",
     "status": "completed"
    },
    "tags": []
   },
   "source": [
    "**This notebook is an exercise in the [Data Cleaning](https://www.kaggle.com/learn/data-cleaning) course.  You can reference the tutorial at [this link](https://www.kaggle.com/alexisbcook/character-encodings).**\n",
    "\n",
    "---\n"
   ]
  },
  {
   "cell_type": "markdown",
   "id": "0c23ea44",
   "metadata": {
    "papermill": {
     "duration": 0.004258,
     "end_time": "2023-04-01T20:49:53.671514",
     "exception": false,
     "start_time": "2023-04-01T20:49:53.667256",
     "status": "completed"
    },
    "tags": []
   },
   "source": [
    "In this exercise, you'll apply what you learned in the **Character encodings** tutorial.\n",
    "\n",
    "# Setup\n",
    "\n",
    "The questions below will give you feedback on your work. Run the following cell to set up the feedback system."
   ]
  },
  {
   "cell_type": "code",
   "execution_count": 1,
   "id": "3cd33cc1",
   "metadata": {
    "execution": {
     "iopub.execute_input": "2023-04-01T20:49:53.683357Z",
     "iopub.status.busy": "2023-04-01T20:49:53.682770Z",
     "iopub.status.idle": "2023-04-01T20:49:53.758497Z",
     "shell.execute_reply": "2023-04-01T20:49:53.757614Z"
    },
    "papermill": {
     "duration": 0.085405,
     "end_time": "2023-04-01T20:49:53.761649",
     "exception": false,
     "start_time": "2023-04-01T20:49:53.676244",
     "status": "completed"
    },
    "tags": []
   },
   "outputs": [
    {
     "name": "stdout",
     "output_type": "stream",
     "text": [
      "Setup Complete\n"
     ]
    }
   ],
   "source": [
    "from learntools.core import binder\n",
    "binder.bind(globals())\n",
    "from learntools.data_cleaning.ex4 import *\n",
    "print(\"Setup Complete\")"
   ]
  },
  {
   "cell_type": "markdown",
   "id": "6d30683b",
   "metadata": {
    "papermill": {
     "duration": 0.004713,
     "end_time": "2023-04-01T20:49:53.772128",
     "exception": false,
     "start_time": "2023-04-01T20:49:53.767415",
     "status": "completed"
    },
    "tags": []
   },
   "source": [
    "# Get our environment set up\n",
    "\n",
    "The first thing we'll need to do is load in the libraries we'll be using."
   ]
  },
  {
   "cell_type": "code",
   "execution_count": 2,
   "id": "387e9d36",
   "metadata": {
    "execution": {
     "iopub.execute_input": "2023-04-01T20:49:53.784839Z",
     "iopub.status.busy": "2023-04-01T20:49:53.783507Z",
     "iopub.status.idle": "2023-04-01T20:49:53.789747Z",
     "shell.execute_reply": "2023-04-01T20:49:53.788977Z"
    },
    "papermill": {
     "duration": 0.014762,
     "end_time": "2023-04-01T20:49:53.791947",
     "exception": false,
     "start_time": "2023-04-01T20:49:53.777185",
     "status": "completed"
    },
    "tags": []
   },
   "outputs": [],
   "source": [
    "# modules we'll use\n",
    "import pandas as pd\n",
    "import numpy as np\n",
    "\n",
    "# helpful character encoding module\n",
    "import charset_normalizer\n",
    "\n",
    "# set seed for reproducibility\n",
    "np.random.seed(0)"
   ]
  },
  {
   "cell_type": "markdown",
   "id": "eb6b7337",
   "metadata": {
    "papermill": {
     "duration": 0.004338,
     "end_time": "2023-04-01T20:49:53.801011",
     "exception": false,
     "start_time": "2023-04-01T20:49:53.796673",
     "status": "completed"
    },
    "tags": []
   },
   "source": [
    "# 1) What are encodings?\n",
    "\n",
    "You're working with a dataset composed of bytes.  Run the code cell below to print a sample entry."
   ]
  },
  {
   "cell_type": "code",
   "execution_count": 3,
   "id": "aba53dbf",
   "metadata": {
    "execution": {
     "iopub.execute_input": "2023-04-01T20:49:53.812341Z",
     "iopub.status.busy": "2023-04-01T20:49:53.811659Z",
     "iopub.status.idle": "2023-04-01T20:49:53.818384Z",
     "shell.execute_reply": "2023-04-01T20:49:53.816857Z"
    },
    "papermill": {
     "duration": 0.016038,
     "end_time": "2023-04-01T20:49:53.821656",
     "exception": false,
     "start_time": "2023-04-01T20:49:53.805618",
     "status": "completed"
    },
    "tags": []
   },
   "outputs": [
    {
     "name": "stdout",
     "output_type": "stream",
     "text": [
      "b'\\xa7A\\xa6n'\n",
      "data type: <class 'bytes'>\n"
     ]
    }
   ],
   "source": [
    "sample_entry = b'\\xa7A\\xa6n'\n",
    "print(sample_entry)\n",
    "print('data type:', type(sample_entry))"
   ]
  },
  {
   "cell_type": "markdown",
   "id": "e94337aa",
   "metadata": {
    "papermill": {
     "duration": 0.004499,
     "end_time": "2023-04-01T20:49:53.831440",
     "exception": false,
     "start_time": "2023-04-01T20:49:53.826941",
     "status": "completed"
    },
    "tags": []
   },
   "source": [
    "You notice that it doesn't use the standard UTF-8 encoding. \n",
    "\n",
    "Use the next code cell to create a variable `new_entry` that changes the encoding from `\"big5-tw\"` to `\"utf-8\"`.  `new_entry` should have the bytes datatype."
   ]
  },
  {
   "cell_type": "code",
   "execution_count": 4,
   "id": "b83bb895",
   "metadata": {
    "execution": {
     "iopub.execute_input": "2023-04-01T20:49:53.843243Z",
     "iopub.status.busy": "2023-04-01T20:49:53.842184Z",
     "iopub.status.idle": "2023-04-01T20:49:53.855503Z",
     "shell.execute_reply": "2023-04-01T20:49:53.854048Z"
    },
    "papermill": {
     "duration": 0.021741,
     "end_time": "2023-04-01T20:49:53.857747",
     "exception": false,
     "start_time": "2023-04-01T20:49:53.836006",
     "status": "completed"
    },
    "tags": []
   },
   "outputs": [
    {
     "name": "stdout",
     "output_type": "stream",
     "text": [
      "b'\\xe4\\xbd\\xa0\\xe5\\xa5\\xbd'\n"
     ]
    },
    {
     "data": {
      "application/javascript": [
       "parent.postMessage({\"jupyterEvent\": \"custom.exercise_interaction\", \"data\": {\"outcomeType\": 1, \"valueTowardsCompletion\": 0.3333333333333333, \"interactionType\": 1, \"questionType\": 1, \"questionId\": \"1_EncodingsIntro\", \"learnToolsVersion\": \"0.3.4\", \"failureMessage\": \"\", \"exceptionClass\": \"\", \"trace\": \"\"}}, \"*\")"
      ],
      "text/plain": [
       "<IPython.core.display.Javascript object>"
      ]
     },
     "metadata": {},
     "output_type": "display_data"
    },
    {
     "data": {
      "text/markdown": [
       "<span style=\"color:#33cc33\">Correct</span>"
      ],
      "text/plain": [
       "Correct"
      ]
     },
     "metadata": {},
     "output_type": "display_data"
    }
   ],
   "source": [
    "before = sample_entry.decode(\"big5-tw\")\n",
    "new_entry = before.encode()\n",
    "print(new_entry)\n",
    "# Check your answer\n",
    "q1.check()"
   ]
  },
  {
   "cell_type": "code",
   "execution_count": 5,
   "id": "abb8bf6e",
   "metadata": {
    "execution": {
     "iopub.execute_input": "2023-04-01T20:49:53.870491Z",
     "iopub.status.busy": "2023-04-01T20:49:53.869276Z",
     "iopub.status.idle": "2023-04-01T20:49:53.876922Z",
     "shell.execute_reply": "2023-04-01T20:49:53.876152Z"
    },
    "papermill": {
     "duration": 0.016138,
     "end_time": "2023-04-01T20:49:53.878886",
     "exception": false,
     "start_time": "2023-04-01T20:49:53.862748",
     "status": "completed"
    },
    "tags": []
   },
   "outputs": [
    {
     "data": {
      "application/javascript": [
       "parent.postMessage({\"jupyterEvent\": \"custom.exercise_interaction\", \"data\": {\"interactionType\": 3, \"questionType\": 1, \"questionId\": \"1_EncodingsIntro\", \"learnToolsVersion\": \"0.3.4\", \"valueTowardsCompletion\": 0.0, \"failureMessage\": \"\", \"exceptionClass\": \"\", \"trace\": \"\", \"outcomeType\": 4}}, \"*\")"
      ],
      "text/plain": [
       "<IPython.core.display.Javascript object>"
      ]
     },
     "metadata": {},
     "output_type": "display_data"
    },
    {
     "data": {
      "text/markdown": [
       "<span style=\"color:#33cc99\">Solution:</span> \n",
       "```python\n",
       "before = sample_entry.decode(\"big5-tw\")\n",
       "new_entry = before.encode()\n",
       "\n",
       "```"
      ],
      "text/plain": [
       "Solution: \n",
       "```python\n",
       "before = sample_entry.decode(\"big5-tw\")\n",
       "new_entry = before.encode()\n",
       "\n",
       "```"
      ]
     },
     "metadata": {},
     "output_type": "display_data"
    }
   ],
   "source": [
    "# Lines below will give you a hint or solution code\n",
    "#q1.hint()\n",
    "q1.solution()"
   ]
  },
  {
   "cell_type": "markdown",
   "id": "978699ca",
   "metadata": {
    "papermill": {
     "duration": 0.005011,
     "end_time": "2023-04-01T20:49:53.889085",
     "exception": false,
     "start_time": "2023-04-01T20:49:53.884074",
     "status": "completed"
    },
    "tags": []
   },
   "source": [
    "# 2) Reading in files with encoding problems\n",
    "\n",
    "Use the code cell below to read in this file at path `\"../input/fatal-police-shootings-in-the-us/PoliceKillingsUS.csv\"`.  \n",
    "\n",
    "Figure out what the correct encoding should be and read in the file to a DataFrame `police_killings`."
   ]
  },
  {
   "cell_type": "code",
   "execution_count": 6,
   "id": "fccd3c10",
   "metadata": {
    "execution": {
     "iopub.execute_input": "2023-04-01T20:49:53.901559Z",
     "iopub.status.busy": "2023-04-01T20:49:53.900852Z",
     "iopub.status.idle": "2023-04-01T20:49:53.923720Z",
     "shell.execute_reply": "2023-04-01T20:49:53.922849Z"
    },
    "papermill": {
     "duration": 0.031979,
     "end_time": "2023-04-01T20:49:53.926197",
     "exception": false,
     "start_time": "2023-04-01T20:49:53.894218",
     "status": "completed"
    },
    "tags": []
   },
   "outputs": [
    {
     "data": {
      "application/javascript": [
       "parent.postMessage({\"jupyterEvent\": \"custom.exercise_interaction\", \"data\": {\"outcomeType\": 1, \"valueTowardsCompletion\": 0.3333333333333333, \"interactionType\": 1, \"questionType\": 1, \"questionId\": \"2_ReadIn\", \"learnToolsVersion\": \"0.3.4\", \"failureMessage\": \"\", \"exceptionClass\": \"\", \"trace\": \"\"}}, \"*\")"
      ],
      "text/plain": [
       "<IPython.core.display.Javascript object>"
      ]
     },
     "metadata": {},
     "output_type": "display_data"
    },
    {
     "data": {
      "text/markdown": [
       "<span style=\"color:#33cc33\">Correct</span>"
      ],
      "text/plain": [
       "Correct"
      ]
     },
     "metadata": {},
     "output_type": "display_data"
    }
   ],
   "source": [
    "# TODO: Load in the DataFrame correctly.\n",
    "police_killings = pd.read_csv(\"../input/fatal-police-shootings-in-the-us/PoliceKillingsUS.csv\", encoding='Windows-1252')\n",
    "\n",
    "# Check your answer\n",
    "q2.check()"
   ]
  },
  {
   "cell_type": "markdown",
   "id": "fd090639",
   "metadata": {
    "papermill": {
     "duration": 0.005393,
     "end_time": "2023-04-01T20:49:53.937057",
     "exception": false,
     "start_time": "2023-04-01T20:49:53.931664",
     "status": "completed"
    },
    "tags": []
   },
   "source": [
    "Feel free to use any additional code cells for supplemental work.  To get credit for finishing this question, you'll need to run `q2.check()` and get a result of **Correct**."
   ]
  },
  {
   "cell_type": "code",
   "execution_count": 7,
   "id": "1410dfcf",
   "metadata": {
    "execution": {
     "iopub.execute_input": "2023-04-01T20:49:53.951234Z",
     "iopub.status.busy": "2023-04-01T20:49:53.950782Z",
     "iopub.status.idle": "2023-04-01T20:49:53.955264Z",
     "shell.execute_reply": "2023-04-01T20:49:53.954099Z"
    },
    "papermill": {
     "duration": 0.013971,
     "end_time": "2023-04-01T20:49:53.957652",
     "exception": false,
     "start_time": "2023-04-01T20:49:53.943681",
     "status": "completed"
    },
    "tags": []
   },
   "outputs": [],
   "source": [
    "#(Optional) Use this code cell for any additional work."
   ]
  },
  {
   "cell_type": "code",
   "execution_count": 8,
   "id": "f1788e41",
   "metadata": {
    "execution": {
     "iopub.execute_input": "2023-04-01T20:49:53.970746Z",
     "iopub.status.busy": "2023-04-01T20:49:53.969939Z",
     "iopub.status.idle": "2023-04-01T20:49:53.977598Z",
     "shell.execute_reply": "2023-04-01T20:49:53.976493Z"
    },
    "papermill": {
     "duration": 0.01677,
     "end_time": "2023-04-01T20:49:53.979936",
     "exception": false,
     "start_time": "2023-04-01T20:49:53.963166",
     "status": "completed"
    },
    "tags": []
   },
   "outputs": [
    {
     "data": {
      "application/javascript": [
       "parent.postMessage({\"jupyterEvent\": \"custom.exercise_interaction\", \"data\": {\"interactionType\": 3, \"questionType\": 1, \"questionId\": \"2_ReadIn\", \"learnToolsVersion\": \"0.3.4\", \"valueTowardsCompletion\": 0.0, \"failureMessage\": \"\", \"exceptionClass\": \"\", \"trace\": \"\", \"outcomeType\": 4}}, \"*\")"
      ],
      "text/plain": [
       "<IPython.core.display.Javascript object>"
      ]
     },
     "metadata": {},
     "output_type": "display_data"
    },
    {
     "data": {
      "text/markdown": [
       "<span style=\"color:#33cc99\">Solution:</span> \n",
       "```python\n",
       "police_killings = pd.read_csv(\"../input/fatal-police-shootings-in-the-us/PoliceKillingsUS.csv\", encoding='Windows-1252')\n",
       "\n",
       "```"
      ],
      "text/plain": [
       "Solution: \n",
       "```python\n",
       "police_killings = pd.read_csv(\"../input/fatal-police-shootings-in-the-us/PoliceKillingsUS.csv\", encoding='Windows-1252')\n",
       "\n",
       "```"
      ]
     },
     "metadata": {},
     "output_type": "display_data"
    }
   ],
   "source": [
    "# Lines below will give you a hint or solution code\n",
    "#q2.hint()\n",
    "q2.solution()"
   ]
  },
  {
   "cell_type": "markdown",
   "id": "39b067df",
   "metadata": {
    "papermill": {
     "duration": 0.005534,
     "end_time": "2023-04-01T20:49:53.991376",
     "exception": false,
     "start_time": "2023-04-01T20:49:53.985842",
     "status": "completed"
    },
    "tags": []
   },
   "source": [
    "# 3) Saving your files with UTF-8 encoding\n",
    "\n",
    "Save a version of the police killings dataset to CSV with UTF-8 encoding.  Your answer will be marked correct after saving this file.  \n",
    "\n",
    "Note: When using the `to_csv()` method, supply only the name of the file (e.g., `\"my_file.csv\"`).  This saves the file at the filepath `\"/kaggle/working/my_file.csv\"`."
   ]
  },
  {
   "cell_type": "code",
   "execution_count": 9,
   "id": "478967eb",
   "metadata": {
    "execution": {
     "iopub.execute_input": "2023-04-01T20:49:54.005911Z",
     "iopub.status.busy": "2023-04-01T20:49:54.005364Z",
     "iopub.status.idle": "2023-04-01T20:49:54.055817Z",
     "shell.execute_reply": "2023-04-01T20:49:54.054531Z"
    },
    "papermill": {
     "duration": 0.062059,
     "end_time": "2023-04-01T20:49:54.059301",
     "exception": false,
     "start_time": "2023-04-01T20:49:53.997242",
     "status": "completed"
    },
    "tags": []
   },
   "outputs": [
    {
     "data": {
      "application/javascript": [
       "parent.postMessage({\"jupyterEvent\": \"custom.exercise_interaction\", \"data\": {\"outcomeType\": 1, \"valueTowardsCompletion\": 0.3333333333333333, \"interactionType\": 1, \"questionType\": 2, \"questionId\": \"3_SaveCSV\", \"learnToolsVersion\": \"0.3.4\", \"failureMessage\": \"\", \"exceptionClass\": \"\", \"trace\": \"\"}}, \"*\")"
      ],
      "text/plain": [
       "<IPython.core.display.Javascript object>"
      ]
     },
     "metadata": {},
     "output_type": "display_data"
    },
    {
     "data": {
      "text/markdown": [
       "<span style=\"color:#33cc33\">Correct</span>"
      ],
      "text/plain": [
       "Correct"
      ]
     },
     "metadata": {},
     "output_type": "display_data"
    }
   ],
   "source": [
    "# TODO: Save the police killings dataset to CSV\n",
    "\n",
    "police_killings.to_csv(\"my_file.csv\")\n",
    "\n",
    "# Check your answer\n",
    "q3.check()"
   ]
  },
  {
   "cell_type": "code",
   "execution_count": 10,
   "id": "cb19ae1f",
   "metadata": {
    "execution": {
     "iopub.execute_input": "2023-04-01T20:49:54.077658Z",
     "iopub.status.busy": "2023-04-01T20:49:54.076363Z",
     "iopub.status.idle": "2023-04-01T20:49:54.082638Z",
     "shell.execute_reply": "2023-04-01T20:49:54.081249Z"
    },
    "papermill": {
     "duration": 0.017916,
     "end_time": "2023-04-01T20:49:54.085707",
     "exception": false,
     "start_time": "2023-04-01T20:49:54.067791",
     "status": "completed"
    },
    "tags": []
   },
   "outputs": [],
   "source": [
    "# Lines below will give you a hint or solution code\n",
    "#q3.hint()\n",
    "#q3.solution()"
   ]
  },
  {
   "cell_type": "markdown",
   "id": "54691f1d",
   "metadata": {
    "papermill": {
     "duration": 0.006454,
     "end_time": "2023-04-01T20:49:54.101877",
     "exception": false,
     "start_time": "2023-04-01T20:49:54.095423",
     "status": "completed"
    },
    "tags": []
   },
   "source": [
    "# (Optional) More practice\n",
    "\n",
    "Check out [this dataset of files in different character encodings](https://www.kaggle.com/rtatman/character-encoding-examples). Can you read in all the files with their original encodings and them save them out as UTF-8 files?\n",
    "\n",
    "If you have a file that's in UTF-8 but has just a couple of weird-looking characters in it, you can try out the [ftfy module](https://ftfy.readthedocs.io/en/latest/#) and see if it helps. \n",
    "\n",
    "# Keep going\n",
    "\n",
    "In the final lesson, learn how to [**clean up inconsistent text entries**](https://www.kaggle.com/alexisbcook/inconsistent-data-entry) in your dataset."
   ]
  },
  {
   "cell_type": "markdown",
   "id": "e2f0741b",
   "metadata": {
    "papermill": {
     "duration": 0.00816,
     "end_time": "2023-04-01T20:49:54.117703",
     "exception": false,
     "start_time": "2023-04-01T20:49:54.109543",
     "status": "completed"
    },
    "tags": []
   },
   "source": [
    "---\n",
    "\n",
    "\n",
    "\n",
    "\n",
    "*Have questions or comments? Visit the [course discussion forum](https://www.kaggle.com/learn/data-cleaning/discussion) to chat with other learners.*"
   ]
  }
 ],
 "metadata": {
  "kernelspec": {
   "display_name": "Python 3",
   "language": "python",
   "name": "python3"
  },
  "language_info": {
   "codemirror_mode": {
    "name": "ipython",
    "version": 3
   },
   "file_extension": ".py",
   "mimetype": "text/x-python",
   "name": "python",
   "nbconvert_exporter": "python",
   "pygments_lexer": "ipython3",
   "version": "3.7.12"
  },
  "papermill": {
   "default_parameters": {},
   "duration": 10.846242,
   "end_time": "2023-04-01T20:49:54.756819",
   "environment_variables": {},
   "exception": null,
   "input_path": "__notebook__.ipynb",
   "output_path": "__notebook__.ipynb",
   "parameters": {},
   "start_time": "2023-04-01T20:49:43.910577",
   "version": "2.4.0"
  }
 },
 "nbformat": 4,
 "nbformat_minor": 5
}
